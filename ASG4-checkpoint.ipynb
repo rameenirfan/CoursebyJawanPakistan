{
 "cells": [
  {
   "cell_type": "code",
   "execution_count": 1,
   "metadata": {},
   "outputs": [
    {
     "name": "stdout",
     "output_type": "stream",
     "text": [
      "Select an operation.\n",
      "+ to Add\n",
      "- to Subtract\n",
      "* to Multiply\n",
      "/ to divide\n",
      "^ to power\n",
      "Enter operator to use:/\n",
      "Enter first number: 10\n",
      "Enter second number: 2\n",
      "10 / 2 = 5.0\n"
     ]
    }
   ],
   "source": [
    "# task1\n",
    "\n",
    "# This  performs additiion\n",
    "def add(a, b):\n",
    "   return a + b\n",
    "# This  performs subtraction\n",
    "def subtract(a, b):\n",
    "   return a - b\n",
    "# This performs multiplication\n",
    "def multiply(a, b):\n",
    "   return a * b\n",
    "# This  performs division\n",
    "def divide(a, b):\n",
    "    return a / b\n",
    "# This performs power\n",
    "def power(a,b):\n",
    "    return a**b\n",
    "print(\"Select an operation.\")\n",
    "print(\"+ to Add\")\n",
    "print(\"- to Subtract\")\n",
    "print(\"* to Multiply\")\n",
    "print(\"/ to divide\")\n",
    "print(\"^ to power\" )\n",
    "# User input\n",
    "choice = input(\"Enter operator to use:\")\n",
    "A = int(input(\"Enter first number: \"))\n",
    "B = int(input(\"Enter second number: \"))\n",
    "if choice == '+':\n",
    "   print(A,\"+\",B,\"=\", add(A,B))\n",
    "elif choice == '-':\n",
    "   print(A,\"-\",B,\"=\", subtract(A,B))\n",
    "elif choice == '*':\n",
    "   print(A,\"*\",B,\"=\", multiply(A,B))\n",
    "elif choice == '/':\n",
    "   print(A,\"/\",B,\"=\", divide(A,B))\n",
    "elif choice == '^':\n",
    "   print(A,\"^\",B,\"=\", power(A,B))\n",
    "else:\n",
    "    print(\"Invalid input\")"
   ]
  },
  {
   "cell_type": "code",
   "execution_count": 2,
   "metadata": {},
   "outputs": [
    {
     "name": "stdout",
     "output_type": "stream",
     "text": [
      "{'Rameen': False}\n",
      "{25: True}\n",
      "{1.2: False}\n",
      "{'h': False}\n",
      "{8: True}\n"
     ]
    }
   ],
   "source": [
    "# task 2\n",
    "\n",
    "lst = [\"Rameen\" , 25 ,1.2 , 'h',8]\n",
    "for ele in lst:\n",
    "    check = isinstance(ele , int)\n",
    "    ls = {ele:check}\n",
    "    print(ls)"
   ]
  },
  {
   "cell_type": "code",
   "execution_count": 3,
   "metadata": {},
   "outputs": [
    {
     "name": "stdout",
     "output_type": "stream",
     "text": [
      "Current Dict is:  {'Name': 'Rameen', 'Age': '20'}\n",
      "Updated Dict is:  {'Name': 'Rameen', 'Age': '20', 'Dept': 'CS'}\n"
     ]
    }
   ],
   "source": [
    "# task 3\n",
    "\n",
    "dict = {'Name':'Rameen', 'Age':'20'}\n",
    "print(\"Current Dict is: \", dict)\n",
    "  \n",
    "dict['Dept'] = 'CS'\n",
    "print(\"Updated Dict is: \", dict)"
   ]
  },
  {
   "cell_type": "code",
   "execution_count": 4,
   "metadata": {},
   "outputs": [
    {
     "name": "stdout",
     "output_type": "stream",
     "text": [
      "Sum of int elements in dict:  258\n"
     ]
    }
   ],
   "source": [
    "# task 4\n",
    "\n",
    "dict = {\"a1\" : 25 , \"a2\" : 17 , \"a3\" : 81 , \"a4\" : 77 ,\"a5\" : 58}\n",
    "add = sum(dict.values())\n",
    "print(\"Sum of int elements in dict: \",add)"
   ]
  },
  {
   "cell_type": "code",
   "execution_count": 5,
   "metadata": {},
   "outputs": [
    {
     "name": "stdout",
     "output_type": "stream",
     "text": [
      "[2, 6, 8]\n"
     ]
    }
   ],
   "source": [
    "# task 5\n",
    "\n",
    "lst = [2,2,4,5,6,6,8,8]\n",
    "temp = []\n",
    "dup_lst = []\n",
    "for ele in lst:\n",
    "    if ele not in temp:\n",
    "        temp.append(ele)\n",
    "    else:\n",
    "        dup_lst.append(ele)\n",
    "   \n",
    "print(dup_lst)"
   ]
  },
  {
   "cell_type": "code",
   "execution_count": 6,
   "metadata": {},
   "outputs": [
    {
     "name": "stdout",
     "output_type": "stream",
     "text": [
      "The key is present.\n"
     ]
    }
   ],
   "source": [
    "# task 6\n",
    "\n",
    "dict = {'Sindh': \"P1\", 'Punjab':\"P2\", 'Balochistan':\"P3\"} \n",
    "check = 'Sindh'\n",
    "if check in dict.keys(): \n",
    "        print(\"The key is present.\") \n",
    "else: \n",
    "        print(\"The key does not exist in the dictionary.\") "
   ]
  },
  {
   "cell_type": "code",
   "execution_count": null,
   "metadata": {},
   "outputs": [],
   "source": []
  }
 ],
 "metadata": {
  "kernelspec": {
   "display_name": "Python 3",
   "language": "python",
   "name": "python3"
  },
  "language_info": {
   "codemirror_mode": {
    "name": "ipython",
    "version": 3
   },
   "file_extension": ".py",
   "mimetype": "text/x-python",
   "name": "python",
   "nbconvert_exporter": "python",
   "pygments_lexer": "ipython3",
   "version": "3.7.4"
  }
 },
 "nbformat": 4,
 "nbformat_minor": 2
}
