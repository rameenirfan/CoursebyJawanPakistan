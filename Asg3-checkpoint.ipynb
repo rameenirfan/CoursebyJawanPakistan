{
 "cells": [
  {
   "cell_type": "markdown",
   "metadata": {},
   "source": [
    "# ASSIGNMENT 3"
   ]
  },
  {
   "cell_type": "code",
   "execution_count": 7,
   "metadata": {},
   "outputs": [
    {
     "name": "stdout",
     "output_type": "stream",
     "text": [
      "Twinkle, twinkle, little star,\n",
      "\tHow I wonder what you are!\n",
      "\t\tUp above the world so high,\n",
      "\t\tLike a diamond in the sky.\n",
      "Twinkle, twinkle, little star,\n",
      "\tHow I wonder what you are\n"
     ]
    }
   ],
   "source": [
    "#Question 1\n",
    "\n",
    "print(\"Twinkle, twinkle, little star,\\n\\tHow I wonder what you are!\\n\\t\\tUp above the world so high,\\n\\t\\tLike a diamond in the sky.\\nTwinkle, twinkle, little star,\\n\\tHow I wonder what you are\")\n"
   ]
  },
  {
   "cell_type": "code",
   "execution_count": 10,
   "metadata": {},
   "outputs": [
    {
     "name": "stdout",
     "output_type": "stream",
     "text": [
      "3.7.4\n"
     ]
    }
   ],
   "source": [
    "#Question 2\n",
    "import platform\n",
    "print(platform.python_version())"
   ]
  },
  {
   "cell_type": "code",
   "execution_count": 16,
   "metadata": {},
   "outputs": [
    {
     "name": "stdout",
     "output_type": "stream",
     "text": [
      "Date : 24-10-2021 and Time: 12:26:48\n"
     ]
    }
   ],
   "source": [
    "#Question 3\n",
    "import datetime\n",
    "dt=datetime.datetime.now()\n",
    "print(dt.strftime(\"Date : %d-%m-%Y and Time: %H:%M:%S\"))"
   ]
  },
  {
   "cell_type": "code",
   "execution_count": 20,
   "metadata": {},
   "outputs": [
    {
     "name": "stdout",
     "output_type": "stream",
     "text": [
      "Enter the radius of the circle : 2\n",
      "The area of the circle is: 12.566370614359172\n"
     ]
    }
   ],
   "source": [
    "#Question 4\n",
    "from math import pi\n",
    "radius = int(input (\"Enter the radius of the circle : \"))\n",
    "print (\"The area of the circle is: \" + str(pi * radius**2))\n"
   ]
  },
  {
   "cell_type": "code",
   "execution_count": 32,
   "metadata": {},
   "outputs": [
    {
     "name": "stdout",
     "output_type": "stream",
     "text": [
      "Enter first name: Rameen\n",
      "Enter last name: Irfan\n",
      "Name:  Rameen Irfan\n",
      "Reversed =:  nafrI neemaR\n"
     ]
    }
   ],
   "source": [
    "#Question 5\n",
    "first = str(input(\"Enter first name: \"))\n",
    "last = str(input(\"Enter last name: \"))\n",
    "n = first +\" \" + last\n",
    "print (\"Name: \",n)\n",
    "r =\"\" .join(reversed(n))\n",
    "print (\"Reversed =: \",r)\n"
   ]
  },
  {
   "cell_type": "code",
   "execution_count": 37,
   "metadata": {},
   "outputs": [
    {
     "name": "stdout",
     "output_type": "stream",
     "text": [
      "Enter 1st no:2\n",
      "Enter 2nd no:5\n",
      "Sum of 2 and 5 is 7\n"
     ]
    }
   ],
   "source": [
    "#Question 6\n",
    "x =int(input(\"Enter 1st no:\"))\n",
    "y =int(input(\"Enter 2nd no:\"))\n",
    "add = x+y\n",
    "print(\"Sum of {} and {} is {}\".format(x,y,add))"
   ]
  },
  {
   "cell_type": "code",
   "execution_count": 38,
   "metadata": {},
   "outputs": [
    {
     "name": "stdout",
     "output_type": "stream",
     "text": [
      "                                        \u001b[1m Marksheet  \u001b[0m                                        \n",
      "English Marks Obtained: 50\n",
      "Urdu Marks Obtained: 60\n",
      "Maths Marks Obtained: 70\n",
      "Islamiat Marks Obtained: 60\n",
      "Pak-Studies Marks Obtained: 80\n",
      "Marks in English:  50.0\n",
      "Marks in Urdu:  60.0\n",
      "Marks in Math:  70.0\n",
      "Marks in Islamiat:  60.0\n",
      "Marks in Pak Studies:  80.0\n",
      "Total Marks is  320.0\n",
      "You obtained 64.00% with B Garde\n"
     ]
    }
   ],
   "source": [
    "#Question 7\n",
    "print(\"\\033[1m Marksheet  \\033[0m\".center(100))\n",
    "english = float(input(\"English Marks Obtained: \"))\n",
    "urdu = float(input(\"Urdu Marks Obtained: \"))\n",
    "math = float(input(\"Maths Marks Obtained: \"))\n",
    "islamiat = float(input(\"Islamiat Marks Obtained: \"))\n",
    "pst = float(input(\"Pak-Studies Marks Obtained: \"))\n",
    "if english > 100 or english < 0:\n",
    "    print(\"Please Enter the Correct Marks\")\n",
    "    exit()\n",
    "if urdu > 100 or islamiat < 0:\n",
    "    print(\"Please Enter the Correct Marks\")\n",
    "    exit()\n",
    "if math > 100 or math < 0:\n",
    "    print(\"Please Enter the Correct Marks\")\n",
    "    exit()\n",
    "if islamiat > 100 or islamiat < 0:\n",
    "    print(\"Please Enter the Correct Marks\")\n",
    "    exit()\n",
    "if pst > 100 or islamiat < 0:\n",
    "    print(\"Please Enter the Correct Marks\")\n",
    "    exit()\n",
    "total_marks = english +urdu + math + islamiat +pst\n",
    "print(\"Marks in English: \",english)\n",
    "print(\"Marks in Urdu: \",urdu)\n",
    "print(\"Marks in Math: \",math)\n",
    "print(\"Marks in Islamiat: \",islamiat)\n",
    "print(\"Marks in Pak Studies: \",pst)\n",
    "print(\"Total Marks is \", total_marks)\n",
    "percent_age = ((english+math+islamiat+urdu+pst)/500)*100\n",
    "pecent_age = round(percent_age , 2)\n",
    "if percent_age <= 100 and percent_age >= 80:\n",
    "    print(\"You obtained {:.2f}\".format(percent_age)+\"% with A+ Garde\")\n",
    "elif percent_age < 100 and percent_age >= 70:\n",
    "    print(\"You obtained {:.2f}\".format(percent_age)+\"% with A Garde\")\n",
    "elif percent_age < 100 and percent_age >= 60:\n",
    "    print(\"You obtained {:.2f}\".format(percent_age)+\"% with B Garde\")\n",
    "elif percent_age < 100 and percent_age >= 50:\n",
    "    print(\"You obtained {:.2f}\".format(percent_age)+\"% with C Garde\")\n",
    "elif percent_age < 100 and percent_age >= 40:\n",
    "    print(\"You obtained {:.2f}\".format(percent_age)+\"% with D Garde\")\n",
    "elif percent_age < 100 and percent_age >= 33:\n",
    "    print(\"You obtained {:.2f}\".format(percent_age)+\"% with E Garde\")\n",
    "else:\n",
    "    print(\"You are failed\")"
   ]
  },
  {
   "cell_type": "code",
   "execution_count": 40,
   "metadata": {},
   "outputs": [
    {
     "name": "stdout",
     "output_type": "stream",
     "text": [
      "Enter a number: 7\n",
      "7 is Odd\n"
     ]
    }
   ],
   "source": [
    "#Question 8\n",
    "\n",
    "num = int(input(\"Enter a number: \"))\n",
    "if (num % 2) == 0:\n",
    "   print(\"{0} is Even\".format(num))\n",
    "else:\n",
    "   print(\"{0} is Odd\".format(num))"
   ]
  },
  {
   "cell_type": "code",
   "execution_count": 41,
   "metadata": {},
   "outputs": [
    {
     "name": "stdout",
     "output_type": "stream",
     "text": [
      "Length of list is:  11\n"
     ]
    }
   ],
   "source": [
    "#Question 9\n",
    "test_list = [1, 1, 2, 3, 5, 8, 13, 21, 34, 55, 89]\n",
    "print(\"Length of list is: \",len(test_list))"
   ]
  },
  {
   "cell_type": "code",
   "execution_count": 46,
   "metadata": {},
   "outputs": [
    {
     "name": "stdout",
     "output_type": "stream",
     "text": [
      "Sum of all elements in given list:  232\n"
     ]
    }
   ],
   "source": [
    "#Question 10\n",
    "test_list = [1, 1, 2, 3, 5, 8, 13, 21, 34, 55, 89]\n",
    "total = 0\n",
    "\n",
    "for element in range(0, len(test_list)):\n",
    "    total = total + test_list[element]\n",
    " \n",
    "\n",
    "print(\"Sum of all elements in given list: \", total)\n"
   ]
  },
  {
   "cell_type": "code",
   "execution_count": 47,
   "metadata": {},
   "outputs": [
    {
     "name": "stdout",
     "output_type": "stream",
     "text": [
      "Length of list is:  89\n"
     ]
    }
   ],
   "source": [
    "#Question 11\n",
    "\n",
    "test_list = [1, 1, 2, 3, 5, 8, 13, 21, 34, 55, 89]\n",
    "print(\"Length of list is: \",max(test_list))\n"
   ]
  },
  {
   "cell_type": "code",
   "execution_count": 51,
   "metadata": {},
   "outputs": [
    {
     "name": "stdout",
     "output_type": "stream",
     "text": [
      "[1, 1, 2, 3]\n"
     ]
    }
   ],
   "source": [
    "#Question 12\n",
    "test_list = [1, 1, 2, 3, 5, 8, 13, 21, 34, 55, 89]\n",
    "newlist = []\n",
    "for element in test_list:\n",
    "    if element <5:\n",
    "        newlist.append(element)\n",
    "print(newlist)"
   ]
  }
 ],
 "metadata": {
  "kernelspec": {
   "display_name": "Python 3",
   "language": "python",
   "name": "python3"
  },
  "language_info": {
   "codemirror_mode": {
    "name": "ipython",
    "version": 3
   },
   "file_extension": ".py",
   "mimetype": "text/x-python",
   "name": "python",
   "nbconvert_exporter": "python",
   "pygments_lexer": "ipython3",
   "version": "3.7.4"
  }
 },
 "nbformat": 4,
 "nbformat_minor": 2
}
